{
 "cells": [
  {
   "cell_type": "markdown",
   "metadata": {},
   "source": [
    "# Первое задание"
   ]
  },
  {
   "cell_type": "markdown",
   "metadata": {},
   "source": [
    "## Image -> numpy array"
   ]
  },
  {
   "cell_type": "code",
   "execution_count": 3,
   "metadata": {},
   "outputs": [
    {
     "data": {
      "text/plain": [
       "array([[[199,  15,  46],\n",
       "        [200,  15,  46],\n",
       "        [200,  15,  46],\n",
       "        ...,\n",
       "        [200,  15,  46],\n",
       "        [200,  15,  46],\n",
       "        [200,  15,  46]],\n",
       "\n",
       "       [[200,  15,  46],\n",
       "        [200,  15,  46],\n",
       "        [200,  15,  46],\n",
       "        ...,\n",
       "        [200,  15,  46],\n",
       "        [200,  15,  46],\n",
       "        [200,  15,  46]],\n",
       "\n",
       "       [[200,  15,  46],\n",
       "        [200,  15,  46],\n",
       "        [200,  15,  46],\n",
       "        ...,\n",
       "        [200,  15,  46],\n",
       "        [200,  15,  46],\n",
       "        [200,  15,  46]],\n",
       "\n",
       "       ...,\n",
       "\n",
       "       [[200,  15,  46],\n",
       "        [200,  15,  46],\n",
       "        [200,  15,  46],\n",
       "        ...,\n",
       "        [200,  15,  46],\n",
       "        [200,  15,  46],\n",
       "        [200,  15,  46]],\n",
       "\n",
       "       [[200,  15,  46],\n",
       "        [200,  15,  46],\n",
       "        [200,  15,  46],\n",
       "        ...,\n",
       "        [200,  15,  46],\n",
       "        [200,  15,  46],\n",
       "        [200,  15,  46]],\n",
       "\n",
       "       [[200,  15,  46],\n",
       "        [200,  15,  46],\n",
       "        [200,  15,  46],\n",
       "        ...,\n",
       "        [200,  15,  46],\n",
       "        [200,  15,  46],\n",
       "        [200,  15,  46]]], dtype=uint8)"
      ]
     },
     "execution_count": 3,
     "metadata": {},
     "output_type": "execute_result"
    }
   ],
   "source": [
    "from PIL import Image\n",
    "import numpy as np\n",
    "\n",
    "def get_png_array() -> np.array:\n",
    "    image = Image.open(\"example.png\")\n",
    "    image_array = np.array(image)[:, :, :3]\n",
    "    return image_array\n",
    "\n",
    "get_png_array()"
   ]
  },
  {
   "cell_type": "markdown",
   "metadata": {},
   "source": [
    "## Инвертирование изображения "
   ]
  },
  {
   "cell_type": "code",
   "execution_count": 4,
   "metadata": {},
   "outputs": [],
   "source": [
    "from PIL import Image\n",
    "import numpy as np\n",
    "\n",
    "\n",
    "image_array = get_png_array()\n",
    "negative_image_array = 255 - image_array\n",
    "\n",
    "negative_image = Image.fromarray(negative_image_array)\n",
    "negative_image.show()\n"
   ]
  },
  {
   "cell_type": "markdown",
   "metadata": {},
   "source": [
    "## Полутон"
   ]
  },
  {
   "cell_type": "code",
   "execution_count": 5,
   "metadata": {},
   "outputs": [],
   "source": [
    "from PIL import Image\n",
    "import numpy as np\n",
    "\n",
    "def get_halftone_array() -> np.array:\n",
    "    image_array = get_png_array()\n",
    "    return np.mean(image_array, axis=2)\n",
    "\n",
    "halftone = Image.fromarray(get_halftone_array())\n",
    "halftone.show()"
   ]
  },
  {
   "cell_type": "markdown",
   "metadata": {},
   "source": [
    "## Добавление шума"
   ]
  },
  {
   "cell_type": "code",
   "execution_count": 6,
   "metadata": {},
   "outputs": [],
   "source": [
    "import random\n",
    "from PIL import Image\n",
    "import numpy as np\n",
    "\n",
    "\n",
    "def get_noise_png(mean: float = 50, sigma: float = 5, data_type=float) -> np.array:\n",
    "    halftone_image_array = get_halftone_array()\n",
    "    return np.array([np.array([pixel + random.gauss(mean, sigma) * random.randint(0, 1) for pixel in row], dtype=data_type)\n",
    "                     for row in halftone_image_array])\n",
    "\n",
    "noise_appended = Image.fromarray(get_noise_png())\n",
    "noise_appended.show()\n",
    "# max(np.array([np.max(row) for row in noise_appended]))"
   ]
  },
  {
   "cell_type": "markdown",
   "metadata": {},
   "source": [
    "## Построение гистограммы"
   ]
  },
  {
   "cell_type": "code",
   "execution_count": 9,
   "metadata": {},
   "outputs": [
    {
     "data": {
      "image/png": "[encoded data removed]",
      "text/plain": [
       "<Figure size 640x480 with 1 Axes>"
      ]
     },
     "metadata": {},
     "output_type": "display_data"
    }
   ],
   "source": [
    "import random\n",
    "from collections import Counter\n",
    "\n",
    "from matplotlib.pyplot import bar\n",
    "import numpy as np\n",
    "import numpy.typing as npt\n",
    "from PIL import Image\n",
    "\n",
    "\n",
    "noise_appended_array = get_noise_png(data_type=int)\n",
    "\n",
    "def draw_bar(data: npt.NDArray[int]):\n",
    "    cnt = Counter(data.reshape(-1))\n",
    "    x = list(range(255))\n",
    "    y = [cnt.get(el, 0) for el in x]\n",
    "    bar(x, y)\n",
    "\n",
    "draw_bar(noise_appended_array)\n",
    "# cnt.most_common(3)"
   ]
  },
  {
   "cell_type": "code",
   "execution_count": 8,
   "metadata": {},
   "outputs": [],
   "source": [
    "import numpy as np\n",
    "from PIL import Image\n",
    "\n",
    "\n",
    "image = Image.open(\"example.png\")\n",
    "image_array = np.array(image)[:, :, :3]\n"
   ]
  }
 ],
 "metadata": {
  "kernelspec": {
   "display_name": "Python 3.9.7 ('base')",
   "language": "python",
   "name": "python3"
  },
  "language_info": {
   "codemirror_mode": {
    "name": "ipython",
    "version": 3
   },
   "file_extension": ".py",
   "mimetype": "text/x-python",
   "name": "python",
   "nbconvert_exporter": "python",
   "pygments_lexer": "ipython3",
   "version": "3.9.13"
  },
  "orig_nbformat": 4,
  "vscode": {
   "interpreter": {
    "hash": "68aafaf13ec306e2d5f47595767288cd8b7edbef3132909e5c86e8941a4b7bf3"
   }
  }
 },
 "nbformat": 4,
 "nbformat_minor": 2
}
