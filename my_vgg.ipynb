{
 "cells": [
  {
   "cell_type": "code",
   "execution_count": 1,
   "metadata": {
    "collapsed": true
   },
   "outputs": [],
   "source": [
    "import torch\n",
    "import torchvision\n",
    "from torch import nn, optim\n",
    "from torch.utils.data import DataLoader\n",
    "from torchvision.transforms import transforms"
   ]
  },
  {
   "cell_type": "code",
   "execution_count": 2,
   "outputs": [],
   "source": [
    "dataset_transformator = transforms.Compose([transforms.ToTensor(), transforms.Normalize((0.1307,), (0.3081,))])"
   ],
   "metadata": {
    "collapsed": false
   }
  },
  {
   "cell_type": "code",
   "execution_count": 3,
   "outputs": [],
   "source": [
    "train_dataset = torchvision.datasets.MNIST(root='./datasets', train=True, transform=dataset_transformator, download=True)"
   ],
   "metadata": {
    "collapsed": false
   }
  },
  {
   "cell_type": "code",
   "execution_count": 4,
   "outputs": [],
   "source": [
    "test_dataset = torchvision.datasets.MNIST(root='./datasets', train=False, transform=dataset_transformator)"
   ],
   "metadata": {
    "collapsed": false
   }
  },
  {
   "cell_type": "code",
   "execution_count": 5,
   "outputs": [],
   "source": [
    "batch_size = 200"
   ],
   "metadata": {
    "collapsed": false
   }
  },
  {
   "cell_type": "code",
   "execution_count": 6,
   "outputs": [],
   "source": [
    "train_loader = DataLoader(dataset=train_dataset, batch_size=batch_size, shuffle=True)\n",
    "test_loader = DataLoader(dataset=test_dataset, batch_size=batch_size, shuffle=False)"
   ],
   "metadata": {
    "collapsed": false
   }
  },
  {
   "cell_type": "code",
   "execution_count": 7,
   "outputs": [],
   "source": [
    "class NumNet(nn.Module):\n",
    "    def __init__(self):\n",
    "        super(NumNet, self).__init__()\n",
    "        self.layer1 = nn.Sequential(\n",
    "            nn.Conv2d(in_channels=1, out_channels=16, kernel_size=5, stride=1, padding=2),\n",
    "            nn.ReLU(),\n",
    "            nn.MaxPool2d(kernel_size=2, stride=2))\n",
    "        self.layer2 = nn.Sequential(\n",
    "            nn.Conv2d(in_channels=16, out_channels=32, kernel_size=5, stride=1, padding=2),\n",
    "            nn.ReLU(),\n",
    "            nn.MaxPool2d(kernel_size=2, stride=2))\n",
    "        self.layer3 = nn.Sequential(\n",
    "            nn.Conv2d(in_channels=32, out_channels=64, kernel_size=5, stride=1, padding=2),\n",
    "            nn.ReLU(),\n",
    "            nn.MaxPool2d(kernel_size=2, stride=2))\n",
    "        self.drop_out = nn.Dropout()\n",
    "        self.fc1 = nn.Linear(3 * 3 * 64, 500)\n",
    "        self.fc2 = nn.Linear(500, 10)\n",
    "\n",
    "    def forward(self, x):\n",
    "        out = self.layer1(x)\n",
    "        out = self.layer2(out)\n",
    "        out = self.layer3(out)\n",
    "        out = out.reshape(out.size(0), -1)\n",
    "        out = self.drop_out(out)\n",
    "        out = self.fc1(out)\n",
    "        out = self.fc2(out)\n",
    "        return nn.functional.log_softmax(out, dim=0)"
   ],
   "metadata": {
    "collapsed": false
   }
  },
  {
   "cell_type": "code",
   "execution_count": 8,
   "outputs": [],
   "source": [
    "net = NumNet()"
   ],
   "metadata": {
    "collapsed": false
   }
  },
  {
   "cell_type": "code",
   "execution_count": 9,
   "outputs": [],
   "source": [
    "loss_func = nn.CrossEntropyLoss()\n",
    "optimizer = optim.Adam(net.parameters(), lr=0.001)"
   ],
   "metadata": {
    "collapsed": false
   }
  },
  {
   "cell_type": "markdown",
   "source": [
    "## Тренировка"
   ],
   "metadata": {
    "collapsed": false
   }
  },
  {
   "cell_type": "code",
   "execution_count": 10,
   "outputs": [
    {
     "name": "stdout",
     "output_type": "stream",
     "text": [
      "Epoch [1/20], Step [100/300], Loss: 0.1744, Accuracy: 95.00%\n",
      "Epoch [1/20], Step [200/300], Loss: 0.1379, Accuracy: 96.50%\n",
      "Epoch [1/20], Step [300/300], Loss: 0.0601, Accuracy: 97.50%\n",
      "Epoch [2/20], Step [100/300], Loss: 0.1218, Accuracy: 96.50%\n",
      "Epoch [2/20], Step [200/300], Loss: 0.0975, Accuracy: 97.00%\n",
      "Epoch [2/20], Step [300/300], Loss: 0.0930, Accuracy: 97.00%\n",
      "Epoch [3/20], Step [100/300], Loss: 0.0343, Accuracy: 99.50%\n",
      "Epoch [3/20], Step [200/300], Loss: 0.0659, Accuracy: 97.50%\n",
      "Epoch [3/20], Step [300/300], Loss: 0.0915, Accuracy: 96.50%\n",
      "Epoch [4/20], Step [100/300], Loss: 0.0416, Accuracy: 97.50%\n",
      "Epoch [4/20], Step [200/300], Loss: 0.1150, Accuracy: 97.50%\n",
      "Epoch [4/20], Step [300/300], Loss: 0.0378, Accuracy: 98.00%\n",
      "Epoch [5/20], Step [100/300], Loss: 0.0420, Accuracy: 99.00%\n",
      "Epoch [5/20], Step [200/300], Loss: 0.0173, Accuracy: 99.00%\n",
      "Epoch [5/20], Step [300/300], Loss: 0.0557, Accuracy: 98.00%\n",
      "Epoch [6/20], Step [100/300], Loss: 0.0575, Accuracy: 98.00%\n",
      "Epoch [6/20], Step [200/300], Loss: 0.0087, Accuracy: 100.00%\n",
      "Epoch [6/20], Step [300/300], Loss: 0.0125, Accuracy: 100.00%\n",
      "Epoch [7/20], Step [100/300], Loss: 0.0928, Accuracy: 96.50%\n",
      "Epoch [7/20], Step [200/300], Loss: 0.0166, Accuracy: 100.00%\n",
      "Epoch [7/20], Step [300/300], Loss: 0.0228, Accuracy: 99.00%\n",
      "Epoch [8/20], Step [100/300], Loss: 0.0389, Accuracy: 98.50%\n",
      "Epoch [8/20], Step [200/300], Loss: 0.0322, Accuracy: 99.00%\n",
      "Epoch [8/20], Step [300/300], Loss: 0.0106, Accuracy: 99.50%\n",
      "Epoch [9/20], Step [100/300], Loss: 0.0050, Accuracy: 100.00%\n",
      "Epoch [9/20], Step [200/300], Loss: 0.0353, Accuracy: 99.00%\n",
      "Epoch [9/20], Step [300/300], Loss: 0.0250, Accuracy: 99.50%\n",
      "Epoch [10/20], Step [100/300], Loss: 0.0111, Accuracy: 99.00%\n",
      "Epoch [10/20], Step [200/300], Loss: 0.0035, Accuracy: 100.00%\n",
      "Epoch [10/20], Step [300/300], Loss: 0.0203, Accuracy: 99.50%\n",
      "Epoch [11/20], Step [100/300], Loss: 0.0039, Accuracy: 100.00%\n",
      "Epoch [11/20], Step [200/300], Loss: 0.0022, Accuracy: 100.00%\n",
      "Epoch [11/20], Step [300/300], Loss: 0.0152, Accuracy: 99.50%\n",
      "Epoch [12/20], Step [100/300], Loss: 0.0431, Accuracy: 98.50%\n",
      "Epoch [12/20], Step [200/300], Loss: 0.0098, Accuracy: 99.50%\n",
      "Epoch [12/20], Step [300/300], Loss: 0.0107, Accuracy: 100.00%\n",
      "Epoch [13/20], Step [100/300], Loss: 0.0409, Accuracy: 98.50%\n",
      "Epoch [13/20], Step [200/300], Loss: 0.0067, Accuracy: 100.00%\n",
      "Epoch [13/20], Step [300/300], Loss: 0.0364, Accuracy: 99.00%\n",
      "Epoch [14/20], Step [100/300], Loss: 0.0058, Accuracy: 100.00%\n",
      "Epoch [14/20], Step [200/300], Loss: 0.0262, Accuracy: 99.00%\n",
      "Epoch [14/20], Step [300/300], Loss: 0.0454, Accuracy: 99.00%\n",
      "Epoch [15/20], Step [100/300], Loss: 0.0450, Accuracy: 98.00%\n",
      "Epoch [15/20], Step [200/300], Loss: 0.0048, Accuracy: 100.00%\n",
      "Epoch [15/20], Step [300/300], Loss: 0.0065, Accuracy: 100.00%\n",
      "Epoch [16/20], Step [100/300], Loss: 0.0307, Accuracy: 99.50%\n",
      "Epoch [16/20], Step [200/300], Loss: 0.0417, Accuracy: 98.00%\n",
      "Epoch [16/20], Step [300/300], Loss: 0.0521, Accuracy: 98.50%\n",
      "Epoch [17/20], Step [100/300], Loss: 0.0132, Accuracy: 99.50%\n",
      "Epoch [17/20], Step [200/300], Loss: 0.0006, Accuracy: 100.00%\n",
      "Epoch [17/20], Step [300/300], Loss: 0.0290, Accuracy: 99.00%\n",
      "Epoch [18/20], Step [100/300], Loss: 0.0230, Accuracy: 99.00%\n",
      "Epoch [18/20], Step [200/300], Loss: 0.0077, Accuracy: 99.50%\n",
      "Epoch [18/20], Step [300/300], Loss: 0.0648, Accuracy: 98.50%\n",
      "Epoch [19/20], Step [100/300], Loss: 0.0013, Accuracy: 100.00%\n",
      "Epoch [19/20], Step [200/300], Loss: 0.0042, Accuracy: 100.00%\n",
      "Epoch [19/20], Step [300/300], Loss: 0.0660, Accuracy: 99.00%\n",
      "Epoch [20/20], Step [100/300], Loss: 0.0327, Accuracy: 99.00%\n",
      "Epoch [20/20], Step [200/300], Loss: 0.0028, Accuracy: 100.00%\n",
      "Epoch [20/20], Step [300/300], Loss: 0.0585, Accuracy: 99.00%\n"
     ]
    }
   ],
   "source": [
    "for epoch in range(20):\n",
    "    for i, (images, labels) in enumerate(train_loader):\n",
    "        outputs = net(images)\n",
    "        loss = loss_func(outputs, labels)\n",
    "\n",
    "        optimizer.zero_grad()\n",
    "        loss.backward()\n",
    "        optimizer.step()\n",
    "\n",
    "        label_count = labels.size(0)\n",
    "        _, predicted = torch.max(outputs.data, 1)\n",
    "        correct_count = (predicted == labels).sum().item()\n",
    "\n",
    "        if (i + 1) % 100 == 0:\n",
    "            print(f'Epoch [{epoch + 1}/20], Step [{i + 1}/{len(train_loader)}], Loss: {loss.item():.4f}, Accuracy: {correct_count / label_count * 100:.2f}%')"
   ],
   "metadata": {
    "collapsed": false
   }
  },
  {
   "cell_type": "markdown",
   "source": [
    "## Тестирование"
   ],
   "metadata": {
    "collapsed": false
   }
  },
  {
   "cell_type": "code",
   "execution_count": 11,
   "outputs": [
    {
     "name": "stdout",
     "output_type": "stream",
     "text": [
      "Accuracy for 10000 images: 99.3 %\n"
     ]
    }
   ],
   "source": [
    "net.eval()\n",
    "with torch.no_grad():\n",
    "    correct = 0\n",
    "    total = 0\n",
    "    for images, labels in test_loader:\n",
    "        outputs = net(images)\n",
    "        _, predicted = torch.max(outputs.data, 1)\n",
    "        total += labels.size(0)\n",
    "        correct += (predicted == labels).sum().item()\n",
    "\n",
    "    print(f'Accuracy for 10000 images: {correct / total * 100} %')"
   ],
   "metadata": {
    "collapsed": false
   }
  }
 ],
 "metadata": {
  "kernelspec": {
   "display_name": "Python 3",
   "language": "python",
   "name": "python3"
  },
  "language_info": {
   "codemirror_mode": {
    "name": "ipython",
    "version": 2
   },
   "file_extension": ".py",
   "mimetype": "text/x-python",
   "name": "python",
   "nbconvert_exporter": "python",
   "pygments_lexer": "ipython2",
   "version": "2.7.6"
  }
 },
 "nbformat": 4,
 "nbformat_minor": 0
}
