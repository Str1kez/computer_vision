{
 "cells": [
  {
   "cell_type": "markdown",
   "metadata": {},
   "source": [
    "# 2 Задание"
   ]
  },
  {
   "cell_type": "code",
   "execution_count": null,
   "metadata": {},
   "outputs": [],
   "source": [
    "from PIL import Image\n",
    "from matplotlib.pyplot import figure, imshow, show\n",
    "import numpy as np\n",
    "\n",
    "def get_image() -> np.array:\n",
    "    dir = \"images/\"\n",
    "    image = Image.open(dir + \"example.png\")\n",
    "    image_array = np.array(image)[:, :, :3]\n",
    "    return image_array\n",
    "\n",
    "\n",
    "def show_image(array: np.array):\n",
    "    figure()\n",
    "    imshow(array, cmap='Greys')\n",
    "   \n",
    "\n",
    "# show_image(get_image())"
   ]
  },
  {
   "cell_type": "markdown",
   "metadata": {},
   "source": [
    "## Полутоновое изображение"
   ]
  },
  {
   "cell_type": "code",
   "execution_count": null,
   "metadata": {},
   "outputs": [],
   "source": [
    "def get_halftone_image() -> np.array:\n",
    "    image_array = get_image()\n",
    "    mean = np.mean(image_array, axis=2, dtype=int)\n",
    "    return mean"
   ]
  },
  {
   "cell_type": "markdown",
   "metadata": {},
   "source": [
    "## Шум"
   ]
  },
  {
   "cell_type": "code",
   "execution_count": null,
   "metadata": {},
   "outputs": [],
   "source": [
    "import random\n",
    "\n",
    "\n",
    "def get_noise_image(mean: float = 50, sigma: float = 5, data_type=float) -> np.array:\n",
    "    halftone_image_array = get_halftone_image()\n",
    "    return np.clip(np.array([np.array([pixel + random.gauss(mean, sigma) * random.randint(0, 1) for pixel in row], dtype=data_type)\n",
    "                     for row in halftone_image_array]), 0, 255)"
   ]
  },
  {
   "cell_type": "markdown",
   "metadata": {},
   "source": [
    "## Гистограмма"
   ]
  },
  {
   "cell_type": "code",
   "execution_count": null,
   "metadata": {},
   "outputs": [],
   "source": [
    "from collections import Counter\n",
    "\n",
    "from matplotlib.pyplot import bar\n",
    "import numpy.typing as npt\n",
    "\n",
    "\n",
    "def get_hist(data: npt.NDArray[int]) -> npt.NDArray[int]:\n",
    "    cnt = Counter(data.reshape(-1))\n",
    "    y = np.array([cnt.get(el, 0) for el in range(256)])\n",
    "    return y\n",
    "\n",
    "\n",
    "def draw_hist(data: npt.NDArray[int]):\n",
    "    x = list(range(256))\n",
    "    y = get_hist(data)\n",
    "    bar(x, y)\n",
    "\n",
    "# noise_appended_array = get_noise_image(data_type=int)\n",
    "# draw_hist(get_halftone_image())"
   ]
  },
  {
   "cell_type": "markdown",
   "metadata": {},
   "source": [
    "## Размытие Гаусса"
   ]
  },
  {
   "cell_type": "code",
   "execution_count": null,
   "metadata": {},
   "outputs": [],
   "source": [
    "def image_filter(K_size, sigma, im):\n",
    "    H, W = im.shape\n",
    "    \n",
    "    pad = K_size // 2\n",
    "    out = np.zeros((H + pad * 2, W + pad * 2), np.float64)\n",
    "    out[pad: pad + H, pad: pad + W] = im.copy().astype(np.float64)\n",
    "\n",
    "    K = np.zeros((K_size, K_size), np.float64)\n",
    "    for x in range(-pad, -pad + K_size):\n",
    "        for y in range(-pad, -pad + K_size):\n",
    "            K[x + pad, y + pad] = np.exp( -(x * x + y * y) / (2 * (sigma * sigma)))\n",
    "    K /= 2 * np.pi * sigma * sigma\n",
    "    K /= K.sum()\n",
    " \n",
    "    tmp = out.copy()\n",
    "  \n",
    "    for y in range(H):\n",
    "        for x in range(W):\n",
    "            out[pad + y, pad + x] = np.sum(K * tmp[y: y + K_size, x: x + K_size])\n",
    "    out = np.clip(out, 0, 255).astype(int)\n",
    "    return out[pad: pad + H, pad: pad + W]"
   ]
  },
  {
   "cell_type": "markdown",
   "metadata": {},
   "source": [
    "## Бинаризация изображения"
   ]
  },
  {
   "cell_type": "code",
   "execution_count": null,
   "metadata": {},
   "outputs": [],
   "source": [
    "def otsu_algorithm(hist: npt.NDArray[int], t: int):\n",
    "    T = u = t\n",
    "    s_max = 0\n",
    "    freq = np.cumsum(hist)\n",
    "    while u < 255:\n",
    "        q1 = freq[u]\n",
    "        q2 = freq[255] - freq[u]\n",
    "        mub = np.mean(hist[:u])\n",
    "        muf = np.mean(hist[u:])\n",
    "        dw = q1 * q2 * (mub - muf) ** 2\n",
    "        if dw > s_max:\n",
    "            s_max = dw\n",
    "            T = u\n",
    "        u += t\n",
    "    return T\n",
    "\n",
    "\n",
    "def salt_and_pepper_filter(image):\n",
    "    pass\n",
    "\n",
    "\n",
    "def get_binary_image():\n",
    "    # image = image_filter(10, 2.8, get_noise_image())\n",
    "    # image = get_halftone_image()\n",
    "    image = get_noise_image()\n",
    "    t = otsu_algorithm(get_hist(image), 1)\n",
    "    image[image <= t] = t\n",
    "    image[image > t] = 0\n",
    "    image[image == t] = 1\n",
    "    return image\n",
    "\n",
    "show_image(get_binary_image())"
   ]
  },
  {
   "cell_type": "code",
   "execution_count": null,
   "metadata": {},
   "outputs": [],
   "source": []
  }
 ],
 "metadata": {
  "kernelspec": {
   "display_name": "Python 3.9.13 ('base')",
   "language": "python",
   "name": "python3"
  },
  "language_info": {
   "codemirror_mode": {
    "name": "ipython",
    "version": 3
   },
   "file_extension": ".py",
   "mimetype": "text/x-python",
   "name": "python",
   "nbconvert_exporter": "python",
   "pygments_lexer": "ipython3",
   "version": "3.9.13"
  },
  "orig_nbformat": 4,
  "vscode": {
   "interpreter": {
    "hash": "68aafaf13ec306e2d5f47595767288cd8b7edbef3132909e5c86e8941a4b7bf3"
   }
  }
 },
 "nbformat": 4,
 "nbformat_minor": 2
}
